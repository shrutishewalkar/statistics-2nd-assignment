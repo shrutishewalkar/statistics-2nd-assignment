{
 "cells": [
  {
   "cell_type": "markdown",
   "id": "6d472b35-f129-4d0c-a6cb-fec742a9f0d1",
   "metadata": {},
   "source": [
    "Que 1: what are the three  measures of central tendency"
   ]
  },
  {
   "cell_type": "markdown",
   "id": "946972e3-e046-4b89-b889-28e84a0182d5",
   "metadata": {},
   "source": [
    "Ans: mode , median, mean"
   ]
  },
  {
   "cell_type": "markdown",
   "id": "960b3f30-7558-4890-8864-7cc3b7c9320f",
   "metadata": {},
   "source": [
    "Que 2: what is the difference betwween the mean, median, and mode? how they are used to measure the central tendency of a dataset?"
   ]
  },
  {
   "cell_type": "markdown",
   "id": "f95fc8bb-3b28-4c1f-9512-31bc0e090110",
   "metadata": {},
   "source": [
    "Ans: Mean is the average value of the given observation. Median is the given value of the middle observation.Mode is themost repeated value of the given observation."
   ]
  },
  {
   "cell_type": "markdown",
   "id": "b2ae2319-a240-4a1d-8ba6-79f29be13c7c",
   "metadata": {},
   "source": [
    "the Mode  is the most frequent value. the median is the middle number in an ordered data set. the mean is the sum of all values divided by the total numbers of values."
   ]
  },
  {
   "cell_type": "markdown",
   "id": "edcf3657-56a3-4558-8af9-6a4ade1d2cca",
   "metadata": {},
   "source": [
    "Que 3: measure the three measures of central tendency of the given height data:\n",
    "    [178, 177, 176, 177, 178, 175, 179, 180, 175, 178.9, 176.2, 177, 172.5, 178, 176.5]"
   ]
  },
  {
   "cell_type": "code",
   "execution_count": 22,
   "id": "166b1007-d412-4aa0-8d69-fc2edbf8eac2",
   "metadata": {},
   "outputs": [],
   "source": [
    "height= [178, 177, 176, 177, 178, 175, 179, 180, 175, 178.9, 176.2, 177, 172.5, 178, 176.5]"
   ]
  },
  {
   "cell_type": "code",
   "execution_count": 23,
   "id": "05b1db62-9a3f-415f-9fb3-5168f29b5a08",
   "metadata": {},
   "outputs": [
    {
     "data": {
      "text/plain": [
       "176.94000000000003"
      ]
     },
     "execution_count": 23,
     "metadata": {},
     "output_type": "execute_result"
    }
   ],
   "source": [
    "import numpy as np\n",
    "np.mean(height)"
   ]
  },
  {
   "cell_type": "code",
   "execution_count": 24,
   "id": "303ddd33-ae6b-4ba7-91c3-ca5a32ee8d38",
   "metadata": {},
   "outputs": [
    {
     "data": {
      "text/plain": [
       "177.0"
      ]
     },
     "execution_count": 24,
     "metadata": {},
     "output_type": "execute_result"
    }
   ],
   "source": [
    "import  numpy as np\n",
    "np.median(height)"
   ]
  },
  {
   "cell_type": "code",
   "execution_count": 25,
   "id": "fd9a504c-efdc-4e24-a203-94ad33798d80",
   "metadata": {},
   "outputs": [],
   "source": [
    "from scipy import stats"
   ]
  },
  {
   "cell_type": "code",
   "execution_count": 26,
   "id": "4936ae24-ec44-4769-8668-3197c6721f2c",
   "metadata": {},
   "outputs": [
    {
     "name": "stderr",
     "output_type": "stream",
     "text": [
      "/tmp/ipykernel_95/1690947930.py:1: FutureWarning: Unlike other reduction functions (e.g. `skew`, `kurtosis`), the default behavior of `mode` typically preserves the axis it acts along. In SciPy 1.11.0, this behavior will change: the default value of `keepdims` will become False, the `axis` over which the statistic is taken will be eliminated, and the value None will no longer be accepted. Set `keepdims` to True or False to avoid this warning.\n",
      "  stats.mode(height)\n"
     ]
    },
    {
     "data": {
      "text/plain": [
       "ModeResult(mode=array([177.]), count=array([3]))"
      ]
     },
     "execution_count": 26,
     "metadata": {},
     "output_type": "execute_result"
    }
   ],
   "source": [
    "stats.mode(height)"
   ]
  },
  {
   "cell_type": "markdown",
   "id": "9683738a-f144-4d47-9868-6107df420cf2",
   "metadata": {},
   "source": [
    "Que 4: find the standard deviation of the given data."
   ]
  },
  {
   "cell_type": "code",
   "execution_count": 35,
   "id": "9c50f1bd-e288-4672-92fc-112a0ffaa7d6",
   "metadata": {},
   "outputs": [],
   "source": [
    "from statistics import stdev\n",
    "test_scores=[178, 177, 176, 177, 178, 175, 179, 180, 175, 178.9, 176.2, 177, 172.5, 178, 176.5]"
   ]
  },
  {
   "cell_type": "code",
   "execution_count": 36,
   "id": "5260555c-90bf-4257-879e-7b7771ca0da0",
   "metadata": {},
   "outputs": [
    {
     "data": {
      "text/plain": [
       "1.88406854591713"
      ]
     },
     "execution_count": 36,
     "metadata": {},
     "output_type": "execute_result"
    }
   ],
   "source": [
    "stdev(test_scores)"
   ]
  },
  {
   "cell_type": "markdown",
   "id": "8d7780a3-c755-4e77-92c9-23bfcaf7baa3",
   "metadata": {},
   "source": [
    "Que5: how are measures of dispersion such as range , variance, and standard deviation used to describe the spread of a dataset "
   ]
  },
  {
   "cell_type": "markdown",
   "id": "8ab5c0a5-8905-4c27-bd6c-2d6d19a89e7e",
   "metadata": {},
   "source": [
    "SD is the squre root od sum of squared deviation from the mean divided by the number of observations"
   ]
  },
  {
   "cell_type": "markdown",
   "id": "635cea9f-17a2-4abc-b285-9593910433a8",
   "metadata": {},
   "source": [
    "Que6: what is a  venn diagram?"
   ]
  },
  {
   "cell_type": "markdown",
   "id": "4aebbc16-6a65-4eed-9c98-708cfa83575c",
   "metadata": {},
   "source": [
    "a venn diagram is an illustration that used circles to show the relationships among things or finite groups of things"
   ]
  },
  {
   "cell_type": "markdown",
   "id": "8c79d67e-aaa4-4ff7-9c04-4736a4a1e2b6",
   "metadata": {},
   "source": [
    "Que7: for the two given dataset A=(2,3,4,5,6,7) & B=(0,2,6,8,10)"
   ]
  },
  {
   "cell_type": "code",
   "execution_count": 15,
   "id": "cda7b30f-addc-4748-914c-bd344a51591f",
   "metadata": {},
   "outputs": [
    {
     "name": "stdout",
     "output_type": "stream",
     "text": [
      "A intersection B: {2, 6}\n",
      "A union B: {0, 2, 3, 4, 5, 6, 7, 8, 10}\n"
     ]
    }
   ],
   "source": [
    "A={2,3,4,5,6,7}\n",
    "B={0,2,6,8,10}\n",
    "#A intersection B\n",
    "AB=A.intersection(B)\n",
    "print(\"A intersection B:\", AB)\n",
    "#A uniob B\n",
    "A_union_B=A.union(B)\n",
    "print(\"A union B:\",A_union_B)"
   ]
  },
  {
   "cell_type": "markdown",
   "id": "a044a561-749e-4c4a-8663-3f8a8386f981",
   "metadata": {},
   "source": [
    "Que8: what do you understand about skewness in data?"
   ]
  },
  {
   "cell_type": "markdown",
   "id": "44949c85-a829-4c03-ba13-42cf36e6c4da",
   "metadata": {},
   "source": [
    "skewness is a measurement of the distortion of symmetrical distribution or asymmetry in a data set. skewness is demonstrated on a bell curve when data points are not distributed symmetrically to the left and right sides of the median on a bell curve."
   ]
  },
  {
   "cell_type": "markdown",
   "id": "42217ce9-0f65-4573-9730-b23122b1596b",
   "metadata": {},
   "source": [
    "Que9: if data is right skewness then what will be the position of median with respect to mean?"
   ]
  },
  {
   "cell_type": "markdown",
   "id": "e2152ec5-a943-4ed7-a472-dd0d952c5973",
   "metadata": {},
   "source": [
    "mean is greater than the median"
   ]
  },
  {
   "cell_type": "markdown",
   "id": "ae4ee75a-f65f-4fcb-824f-5f68795bcfd1",
   "metadata": {},
   "source": [
    "Que10: explain difference between covariance and correlation . how are these measures used in staistical analysis?"
   ]
  },
  {
   "cell_type": "markdown",
   "id": "571ca8b6-a5a1-4809-95fe-cfa7096edc32",
   "metadata": {},
   "source": [
    "coveriance is an indicator of the extent to which 2 random variables are dependent on each other. A higher number denotes higher dependency. correlation is a statistical measure that indicates how strongly two variables are realted.covariance shows you how the two variables differ, whereas correlation shows you how the two variables are realated."
   ]
  },
  {
   "cell_type": "markdown",
   "id": "07a5a2f0-ee1b-40e8-a30d-4cd1e7faaf8a",
   "metadata": {},
   "source": [
    "Que11: what is the formula for calculating the sample mean? "
   ]
  },
  {
   "cell_type": "code",
   "execution_count": 18,
   "id": "a3e0d9b9-85a9-490c-9fbc-7a6b20298f75",
   "metadata": {},
   "outputs": [],
   "source": [
    "def sample_mean(data):\n",
    "    n=len(data)\n",
    "    if n<1:\n",
    "        raise ValueError(\"The length of data should be greater than or equal to 1.\")\n",
    "        return sum(data)/n"
   ]
  },
  {
   "cell_type": "code",
   "execution_count": 17,
   "id": "859bf3c0-a581-47fc-b414-8b0baef78d97",
   "metadata": {},
   "outputs": [
    {
     "name": "stdout",
     "output_type": "stream",
     "text": [
      "None\n"
     ]
    }
   ],
   "source": [
    "data = [1,2,3,4,5]\n",
    "mean = sample_mean(data)\n",
    "print(mean)"
   ]
  },
  {
   "cell_type": "markdown",
   "id": "90ba73e5-c789-43dd-a2e4-3c6efc085dff",
   "metadata": {},
   "source": [
    "Que12:for a normal distribution data what is the relationship between its measure of central tendency?"
   ]
  },
  {
   "cell_type": "markdown",
   "id": "7cb39e48-b84a-47eb-9b04-25def17cf818",
   "metadata": {},
   "source": [
    "the x- value of the peak"
   ]
  },
  {
   "cell_type": "markdown",
   "id": "c7a27855-e503-4ee3-ba48-5e03989e17a7",
   "metadata": {},
   "source": [
    "Que13:how is covariance different from correlation."
   ]
  },
  {
   "cell_type": "markdown",
   "id": "fbfeb815-6aa4-4851-b443-a5629b9b331b",
   "metadata": {},
   "source": [
    "Ans: coveriance shows you how the two variables differ , whereas correlation shows you how the two variables are realated."
   ]
  },
  {
   "cell_type": "markdown",
   "id": "117ff9f9-9f3d-45e8-8bb9-bae978b095bf",
   "metadata": {},
   "source": [
    "Que14: how do outlier affect measures of central tendency and dispersion?"
   ]
  },
  {
   "cell_type": "code",
   "execution_count": null,
   "id": "d29c607d-2895-4dab-87fc-03f841b3e8f3",
   "metadata": {},
   "outputs": [],
   "source": [
    "Ans: outliers affect the mean value of the data but have littl"
   ]
  }
 ],
 "metadata": {
  "kernelspec": {
   "display_name": "Python 3 (ipykernel)",
   "language": "python",
   "name": "python3"
  },
  "language_info": {
   "codemirror_mode": {
    "name": "ipython",
    "version": 3
   },
   "file_extension": ".py",
   "mimetype": "text/x-python",
   "name": "python",
   "nbconvert_exporter": "python",
   "pygments_lexer": "ipython3",
   "version": "3.10.8"
  }
 },
 "nbformat": 4,
 "nbformat_minor": 5
}
